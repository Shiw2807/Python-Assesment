{
 "cells": [
  {
   "cell_type": "markdown",
   "metadata": {
    "id": "hqlAwxycceLg"
   },
   "source": [
    "# Welcome to the **Python Assessment** of **Vertical Collaboration, Open Community**\n",
    "\n",
    "## About the dataset\n",
    "This dataset contains house sale prices for King County, which includes Seattle. It includes homes sold between May 2014 and May 2015.\n",
    "\n",
    "##### To pass the assessment, you must answer all 11 questions correctly ***Bonus section is optional*.\n",
    "\n",
    "#### Wish you all the best!!\n",
    "\n",
    "\n"
   ]
  },
  {
   "cell_type": "code",
   "execution_count": null,
   "metadata": {
    "id": "wU_bXJPAcsQc"
   },
   "outputs": [],
   "source": [
    "import numpy as np\n",
    "import pandas as pd\n",
    "import matplotlib.pyplot as plt"
   ]
  },
  {
   "cell_type": "markdown",
   "metadata": {
    "id": "4XxnlWfzd7xk"
   },
   "source": [
    "Q1) Your understanding about (max 50 words)\n",
    "\n",
    "\n",
    "1.   NumPY: NumPy, which stands for Numerical Python, is a Python module that consists of multidimensional array objects and a collection of functions for manipulating those arrays. NumPy allows you to conduct mathematical and logical functions on arrays.\n",
    "2.   Pandas: Pandas is a Python package that allows you to work with large data collections. It offers tools for data analysis, cleansing, exploration, and manipulation. It's utilised for activities like data analysis and machine learning.\n",
    "3.   MatPlotLib: Matplotlib is a data visualisation and graphical plotting package for Python and its numerical extension NumPy that runs on all platforms. In Python, it's used to make static, dynamic, and interactive representations.\n",
    "\n"
   ]
  },
  {
   "cell_type": "markdown",
   "metadata": {
    "id": "XmRRFzQccy3j"
   },
   "source": [
    "Q2) Upload the given dataset into the folder named sample_data"
   ]
  },
  {
   "cell_type": "code",
   "execution_count": null,
   "metadata": {
    "id": "npg0aacAcuDR"
   },
   "outputs": [],
   "source": [
    "sales = pd.read_csv('sample_data/kc_house_data.csv')"
   ]
  },
  {
   "cell_type": "markdown",
   "metadata": {
    "id": "zvQY-iP4c4HD"
   },
   "source": [
    "Q2) Find out the total number of rows and columns present in our dataset"
   ]
  },
  {
   "cell_type": "code",
   "execution_count": null,
   "metadata": {
    "id": "E22av13Mc3eE"
   },
   "outputs": [],
   "source": [
    "noc = len(df.columns)\n",
    "print(noc)\n",
    "nor = len(df) \n",
    "print(nor)"
   ]
  },
  {
   "cell_type": "markdown",
   "metadata": {
    "id": "R6EDQ3U7dMii"
   },
   "source": [
    "Q3) Find out the mean of Price"
   ]
  },
  {
   "cell_type": "code",
   "execution_count": null,
   "metadata": {
    "id": "2yVwB0Ztc9zz"
   },
   "outputs": [],
   "source": [
    "df[\"price\"].mean()"
   ]
  },
  {
   "cell_type": "markdown",
   "metadata": {
    "id": "2QO6-TXvddnN"
   },
   "source": [
    "Q4) Find out which zipcode has maximum no of sales"
   ]
  },
  {
   "cell_type": "code",
   "execution_count": null,
   "metadata": {
    "id": "vlSAsQfQfgg2"
   },
   "outputs": [],
   "source": [
    "df[\"zipcode\"].max()"
   ]
  },
  {
   "cell_type": "markdown",
   "metadata": {
    "id": "eeLeVaWBdj7e"
   },
   "source": [
    "Q5) Make an array displaying type of house grade present"
   ]
  },
  {
   "cell_type": "code",
   "execution_count": null,
   "metadata": {
    "id": "TOVrRt4sfhrK"
   },
   "outputs": [],
   "source": [
    "df[\"grade\"].dtypes"
   ]
  },
  {
   "cell_type": "markdown",
   "metadata": {
    "id": "vyYhtqQDdxqj"
   },
   "source": [
    "Q6) Find out the total no sales in conditions 3 and 4"
   ]
  },
  {
   "cell_type": "code",
   "execution_count": null,
   "metadata": {
    "id": "SkBMOVvafiei"
   },
   "outputs": [],
   "source": [
    "df[df['condition'].between(3, 4)]"
   ]
  },
  {
   "cell_type": "markdown",
   "metadata": {
    "id": "AHs7ZLKrdTsD"
   },
   "source": [
    "Q7) Find out the top-five ids with the highest prices"
   ]
  },
  {
   "cell_type": "code",
   "execution_count": null,
   "metadata": {
    "id": "BS653UBKfjfK"
   },
   "outputs": [],
   "source": [
    "df.nlargest(5, ['price'])"
   ]
  },
  {
   "cell_type": "markdown",
   "metadata": {
    "id": "XP54QULPdZTh"
   },
   "source": [
    "Q8) Draw a pie chart displaying the types of house conditions present"
   ]
  },
  {
   "cell_type": "code",
   "execution_count": null,
   "metadata": {
    "id": "5XP9quaFfkaI"
   },
   "outputs": [],
   "source": [
    "plot = df.plot.pie(y='condition', figsize=(5, 5))\n",
    "plt.show()"
   ]
  },
  {
   "cell_type": "markdown",
   "metadata": {
    "id": "8gkXMakRdgnZ"
   },
   "source": [
    "Q9) Draw a bar graph displaying the no of sales"
   ]
  },
  {
   "cell_type": "code",
   "execution_count": null,
   "metadata": {
    "id": "LFwCnSCUflFB"
   },
   "outputs": [],
   "source": [
    "plot = df.plot.bar(x=\"price\", y=\"ye_built\", rot=100, title=\"Graph\");\n",
    "plot.show(block=True);"
   ]
  },
  {
   "cell_type": "markdown",
   "metadata": {
    "id": "_LGgh106dsBQ"
   },
   "source": [
    "Q10) Draw a graph that display the no of sales according to the date"
   ]
  },
  {
   "cell_type": "code",
   "execution_count": null,
   "metadata": {
    "id": "pcKacoICflze"
   },
   "outputs": [],
   "source": [
    "plot = df.plot.bar(x=\"price\", y=\"ye_built\", rot=100, title=\"Graph\");\n",
    "plot.show(block=True);"
   ]
  },
  {
   "cell_type": "markdown",
   "metadata": {
    "id": "jFgB7RxAd0rn"
   },
   "source": [
    "Q11) Draw a bar graph that displays the no of sales accoring to the house grade"
   ]
  },
  {
   "cell_type": "code",
   "execution_count": null,
   "metadata": {
    "id": "ZXPUs_hXfmdR"
   },
   "outputs": [],
   "source": [
    "plot = df.plot.bar(x=\"price\", y=\"grade\", rot=100, title=\"Graph\");\n",
    "plot.show(block=True);"
   ]
  },
  {
   "cell_type": "markdown",
   "metadata": {
    "id": "HXIvKNK7doXJ"
   },
   "source": [
    "### BONUS"
   ]
  },
  {
   "cell_type": "markdown",
   "metadata": {
    "id": "PRP0ZaKFe8xt"
   },
   "source": [
    "Q1) Is there any relationship present between Year Built and Price? If yes, Please explain."
   ]
  },
  {
   "cell_type": "code",
   "execution_count": null,
   "metadata": {
    "id": "FXoVpaJKdPSv"
   },
   "outputs": [],
   "source": [
    "relation = df[\"price\"].corr(df[\"yr_built\"])\n",
    "print(relation)"
   ]
  },
  {
   "cell_type": "markdown",
   "metadata": {
    "id": "QQvNxYe5d3-3"
   },
   "source": [
    "Q2 ) Add 1.8% TAX on every sale Price within Zipcode 98103"
   ]
  },
  {
   "cell_type": "code",
   "execution_count": null,
   "metadata": {
    "id": "lWDids4yfEAz"
   },
   "outputs": [],
   "source": [
    "for i in df:\n",
    "    df.loc[df['zipcode'] <= 98103,\"price\"] += (df[\"price\"]*(1.8/100))\n",
    "df"
   ]
  }
 ],
 "metadata": {
  "colab": {
   "collapsed_sections": [],
   "name": "PythonAssessment_2022-23",
   "provenance": []
  },
  "kernelspec": {
   "display_name": "Python 3",
   "language": "python",
   "name": "python3"
  },
  "language_info": {
   "codemirror_mode": {
    "name": "ipython",
    "version": 3
   },
   "file_extension": ".py",
   "mimetype": "text/x-python",
   "name": "python",
   "nbconvert_exporter": "python",
   "pygments_lexer": "ipython3",
   "version": "3.8.8"
  }
 },
 "nbformat": 4,
 "nbformat_minor": 1
}
